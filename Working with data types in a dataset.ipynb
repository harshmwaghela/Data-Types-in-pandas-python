{
 "cells": [
  {
   "cell_type": "markdown",
   "id": "6c50887a",
   "metadata": {},
   "source": [
    "# 1  Working with different data types."
   ]
  },
  {
   "cell_type": "markdown",
   "id": "0f1033f2",
   "metadata": {},
   "source": [
    "In this section, we will cover the following topics:\n",
    "• Finding data type information about the datset\n",
    "• Converting from one data type to another\n",
    "• Converting date time data\n",
    "• Selecting columns based on data types\n",
    "• Some additional topics\n",
    "Let us get started.\n",
    "If you do not already have pandas installed, you need to use pip to install it as shown below."
   ]
  },
  {
   "cell_type": "code",
   "execution_count": 1,
   "id": "2d4876ac",
   "metadata": {},
   "outputs": [
    {
     "name": "stdout",
     "output_type": "stream",
     "text": [
      "Defaulting to user installation because normal site-packages is not writeableNote: you may need to restart the kernel to use updated packages.\n",
      "\n",
      "Requirement already satisfied: pandas in c:\\programdata\\anaconda3\\lib\\site-packages (1.5.3)\n",
      "Requirement already satisfied: python-dateutil>=2.8.1 in c:\\programdata\\anaconda3\\lib\\site-packages (from pandas) (2.8.2)\n",
      "Requirement already satisfied: pytz>=2020.1 in c:\\programdata\\anaconda3\\lib\\site-packages (from pandas) (2022.7)\n",
      "Requirement already satisfied: numpy>=1.21.0 in c:\\programdata\\anaconda3\\lib\\site-packages (from pandas) (1.24.3)\n",
      "Requirement already satisfied: six>=1.5 in c:\\programdata\\anaconda3\\lib\\site-packages (from python-dateutil>=2.8.1->pandas) (1.16.0)\n"
     ]
    }
   ],
   "source": [
    "pip install pandas"
   ]
  },
  {
   "cell_type": "markdown",
   "id": "18ea2f60",
   "metadata": {},
   "source": [
    "Next we need to import pandas to our notebook."
   ]
  },
  {
   "cell_type": "code",
   "execution_count": 2,
   "id": "a2c23ea3",
   "metadata": {},
   "outputs": [],
   "source": [
    "import pandas as pd"
   ]
  },
  {
   "cell_type": "markdown",
   "id": "4395486e",
   "metadata": {},
   "source": [
    "Let us now look at the dataset for this task. The dataset is about significant earthquakes with a magnitude of 5.5 or higher, having information about their date, time and location. The dataset can be downloaded by clicking [here](https://www.kaggle.com/datasets/usgs/earthquake-database). Only 1000 rows from the middle of the dataset have been used in this demo for the sake of simplicity. You can use the code below to shorten your original dataset after downloading it from the above link. \n",
    "\n",
    "df1 = pd.read_csv('Downloaded_dataset.csv')\n",
    "#This is the downloaded dataset.\n",
    "\n",
    "df1= df1[1000:2000]\n",
    "#Slicing the dataset to arbitrarily select only 1000 rows.\n",
    "\n",
    "pd.to_csv('significant_earthquakes.csv') #change pd as per your dataframe name in my case its df1 as shown below :performed:\n",
    "#Saving the sliced dataset to a local csv file named\n",
    "#'significant_earthquakes.csv' so that we use slicing every time we run this notebook.\n",
    "\n",
    "Let us now read it into a pandas DataFrame named df1. If you want to know more about pandas DataFrame, click [here](https://pandas.pydata.org/docs/reference/api/pandas.DataFrame.html)."
   ]
  },
  {
   "cell_type": "code",
   "execution_count": 3,
   "id": "4ce8a393",
   "metadata": {},
   "outputs": [],
   "source": [
    "df1= pd.read_csv('database.csv')"
   ]
  },
  {
   "cell_type": "code",
   "execution_count": 4,
   "id": "da301575",
   "metadata": {},
   "outputs": [],
   "source": [
    "df1= df1[1000:2000]"
   ]
  },
  {
   "cell_type": "code",
   "execution_count": 6,
   "id": "2c18a87f",
   "metadata": {},
   "outputs": [],
   "source": [
    "df1.to_csv('significant_earthquakes.csv')"
   ]
  },
  {
   "cell_type": "code",
   "execution_count": 7,
   "id": "60614d87",
   "metadata": {},
   "outputs": [],
   "source": [
    "df1= pd.read_csv('significant_earthquakes.csv')"
   ]
  },
  {
   "cell_type": "markdown",
   "id": "328fb96a",
   "metadata": {},
   "source": [
    "Let us now look at the first 5 rows of the DataFrame df1 by using .head() function"
   ]
  },
  {
   "cell_type": "code",
   "execution_count": 8,
   "id": "5f9688e5",
   "metadata": {},
   "outputs": [
    {
     "data": {
      "text/html": [
       "<div>\n",
       "<style scoped>\n",
       "    .dataframe tbody tr th:only-of-type {\n",
       "        vertical-align: middle;\n",
       "    }\n",
       "\n",
       "    .dataframe tbody tr th {\n",
       "        vertical-align: top;\n",
       "    }\n",
       "\n",
       "    .dataframe thead th {\n",
       "        text-align: right;\n",
       "    }\n",
       "</style>\n",
       "<table border=\"1\" class=\"dataframe\">\n",
       "  <thead>\n",
       "    <tr style=\"text-align: right;\">\n",
       "      <th></th>\n",
       "      <th>Unnamed: 0</th>\n",
       "      <th>Date</th>\n",
       "      <th>Time</th>\n",
       "      <th>Latitude</th>\n",
       "      <th>Longitude</th>\n",
       "      <th>Type</th>\n",
       "      <th>Depth</th>\n",
       "      <th>Depth Error</th>\n",
       "      <th>Depth Seismic Stations</th>\n",
       "      <th>Magnitude</th>\n",
       "      <th>...</th>\n",
       "      <th>Magnitude Seismic Stations</th>\n",
       "      <th>Azimuthal Gap</th>\n",
       "      <th>Horizontal Distance</th>\n",
       "      <th>Horizontal Error</th>\n",
       "      <th>Root Mean Square</th>\n",
       "      <th>ID</th>\n",
       "      <th>Source</th>\n",
       "      <th>Location Source</th>\n",
       "      <th>Magnitude Source</th>\n",
       "      <th>Status</th>\n",
       "    </tr>\n",
       "  </thead>\n",
       "  <tbody>\n",
       "    <tr>\n",
       "      <th>0</th>\n",
       "      <td>1000</td>\n",
       "      <td>07/29/1968</td>\n",
       "      <td>11:12:02</td>\n",
       "      <td>-22.531</td>\n",
       "      <td>-174.860</td>\n",
       "      <td>Earthquake</td>\n",
       "      <td>45.0</td>\n",
       "      <td>NaN</td>\n",
       "      <td>NaN</td>\n",
       "      <td>6.3</td>\n",
       "      <td>...</td>\n",
       "      <td>NaN</td>\n",
       "      <td>NaN</td>\n",
       "      <td>NaN</td>\n",
       "      <td>NaN</td>\n",
       "      <td>NaN</td>\n",
       "      <td>ISCGEM819475</td>\n",
       "      <td>ISCGEM</td>\n",
       "      <td>ISCGEM</td>\n",
       "      <td>ISCGEM</td>\n",
       "      <td>Automatic</td>\n",
       "    </tr>\n",
       "    <tr>\n",
       "      <th>1</th>\n",
       "      <td>1001</td>\n",
       "      <td>07/29/1968</td>\n",
       "      <td>23:52:18</td>\n",
       "      <td>-0.291</td>\n",
       "      <td>133.409</td>\n",
       "      <td>Earthquake</td>\n",
       "      <td>20.0</td>\n",
       "      <td>NaN</td>\n",
       "      <td>NaN</td>\n",
       "      <td>6.2</td>\n",
       "      <td>...</td>\n",
       "      <td>NaN</td>\n",
       "      <td>NaN</td>\n",
       "      <td>NaN</td>\n",
       "      <td>NaN</td>\n",
       "      <td>NaN</td>\n",
       "      <td>ISCGEM819494</td>\n",
       "      <td>ISCGEM</td>\n",
       "      <td>ISCGEM</td>\n",
       "      <td>ISCGEM</td>\n",
       "      <td>Automatic</td>\n",
       "    </tr>\n",
       "    <tr>\n",
       "      <th>2</th>\n",
       "      <td>1002</td>\n",
       "      <td>07/30/1968</td>\n",
       "      <td>20:38:43</td>\n",
       "      <td>-6.987</td>\n",
       "      <td>-80.544</td>\n",
       "      <td>Earthquake</td>\n",
       "      <td>31.8</td>\n",
       "      <td>NaN</td>\n",
       "      <td>NaN</td>\n",
       "      <td>6.5</td>\n",
       "      <td>...</td>\n",
       "      <td>NaN</td>\n",
       "      <td>NaN</td>\n",
       "      <td>NaN</td>\n",
       "      <td>NaN</td>\n",
       "      <td>NaN</td>\n",
       "      <td>ISCGEM819518</td>\n",
       "      <td>ISCGEM</td>\n",
       "      <td>ISCGEM</td>\n",
       "      <td>ISCGEM</td>\n",
       "      <td>Automatic</td>\n",
       "    </tr>\n",
       "    <tr>\n",
       "      <th>3</th>\n",
       "      <td>1003</td>\n",
       "      <td>08/01/1968</td>\n",
       "      <td>00:14:17</td>\n",
       "      <td>-26.822</td>\n",
       "      <td>-177.090</td>\n",
       "      <td>Earthquake</td>\n",
       "      <td>127.2</td>\n",
       "      <td>NaN</td>\n",
       "      <td>NaN</td>\n",
       "      <td>5.7</td>\n",
       "      <td>...</td>\n",
       "      <td>NaN</td>\n",
       "      <td>NaN</td>\n",
       "      <td>NaN</td>\n",
       "      <td>NaN</td>\n",
       "      <td>NaN</td>\n",
       "      <td>ISCGEM817534</td>\n",
       "      <td>ISCGEM</td>\n",
       "      <td>ISCGEM</td>\n",
       "      <td>ISCGEM</td>\n",
       "      <td>Automatic</td>\n",
       "    </tr>\n",
       "    <tr>\n",
       "      <th>4</th>\n",
       "      <td>1004</td>\n",
       "      <td>08/01/1968</td>\n",
       "      <td>20:19:22</td>\n",
       "      <td>16.316</td>\n",
       "      <td>122.067</td>\n",
       "      <td>Earthquake</td>\n",
       "      <td>25.0</td>\n",
       "      <td>NaN</td>\n",
       "      <td>NaN</td>\n",
       "      <td>7.6</td>\n",
       "      <td>...</td>\n",
       "      <td>NaN</td>\n",
       "      <td>NaN</td>\n",
       "      <td>NaN</td>\n",
       "      <td>NaN</td>\n",
       "      <td>NaN</td>\n",
       "      <td>ISCGEM817557</td>\n",
       "      <td>ISCGEM</td>\n",
       "      <td>ISCGEM</td>\n",
       "      <td>ISCGEM</td>\n",
       "      <td>Automatic</td>\n",
       "    </tr>\n",
       "  </tbody>\n",
       "</table>\n",
       "<p>5 rows × 22 columns</p>\n",
       "</div>"
      ],
      "text/plain": [
       "   Unnamed: 0        Date      Time  Latitude  Longitude        Type  Depth  \\\n",
       "0        1000  07/29/1968  11:12:02   -22.531   -174.860  Earthquake   45.0   \n",
       "1        1001  07/29/1968  23:52:18    -0.291    133.409  Earthquake   20.0   \n",
       "2        1002  07/30/1968  20:38:43    -6.987    -80.544  Earthquake   31.8   \n",
       "3        1003  08/01/1968  00:14:17   -26.822   -177.090  Earthquake  127.2   \n",
       "4        1004  08/01/1968  20:19:22    16.316    122.067  Earthquake   25.0   \n",
       "\n",
       "   Depth Error  Depth Seismic Stations  Magnitude  ...  \\\n",
       "0          NaN                     NaN        6.3  ...   \n",
       "1          NaN                     NaN        6.2  ...   \n",
       "2          NaN                     NaN        6.5  ...   \n",
       "3          NaN                     NaN        5.7  ...   \n",
       "4          NaN                     NaN        7.6  ...   \n",
       "\n",
       "  Magnitude Seismic Stations  Azimuthal Gap  Horizontal Distance  \\\n",
       "0                        NaN            NaN                  NaN   \n",
       "1                        NaN            NaN                  NaN   \n",
       "2                        NaN            NaN                  NaN   \n",
       "3                        NaN            NaN                  NaN   \n",
       "4                        NaN            NaN                  NaN   \n",
       "\n",
       "   Horizontal Error  Root Mean Square            ID  Source Location Source  \\\n",
       "0               NaN               NaN  ISCGEM819475  ISCGEM          ISCGEM   \n",
       "1               NaN               NaN  ISCGEM819494  ISCGEM          ISCGEM   \n",
       "2               NaN               NaN  ISCGEM819518  ISCGEM          ISCGEM   \n",
       "3               NaN               NaN  ISCGEM817534  ISCGEM          ISCGEM   \n",
       "4               NaN               NaN  ISCGEM817557  ISCGEM          ISCGEM   \n",
       "\n",
       "  Magnitude Source     Status  \n",
       "0           ISCGEM  Automatic  \n",
       "1           ISCGEM  Automatic  \n",
       "2           ISCGEM  Automatic  \n",
       "3           ISCGEM  Automatic  \n",
       "4           ISCGEM  Automatic  \n",
       "\n",
       "[5 rows x 22 columns]"
      ]
     },
     "execution_count": 8,
     "metadata": {},
     "output_type": "execute_result"
    }
   ],
   "source": [
    "df1.head()"
   ]
  },
  {
   "cell_type": "markdown",
   "id": "4e878e24",
   "metadata": {},
   "source": [
    "The first column ‘Unnamed: 0’ is not useful so it can be dropped."
   ]
  },
  {
   "cell_type": "code",
   "execution_count": 9,
   "id": "04def63f",
   "metadata": {},
   "outputs": [],
   "source": [
    "df1.drop(['Unnamed: 0'], axis= 1, inplace= True)"
   ]
  },
  {
   "cell_type": "markdown",
   "id": "d3641955",
   "metadata": {},
   "source": [
    "Let us use .head() to confirm if the column has been dropped."
   ]
  },
  {
   "cell_type": "code",
   "execution_count": 11,
   "id": "8b68783a",
   "metadata": {},
   "outputs": [
    {
     "data": {
      "text/html": [
       "<div>\n",
       "<style scoped>\n",
       "    .dataframe tbody tr th:only-of-type {\n",
       "        vertical-align: middle;\n",
       "    }\n",
       "\n",
       "    .dataframe tbody tr th {\n",
       "        vertical-align: top;\n",
       "    }\n",
       "\n",
       "    .dataframe thead th {\n",
       "        text-align: right;\n",
       "    }\n",
       "</style>\n",
       "<table border=\"1\" class=\"dataframe\">\n",
       "  <thead>\n",
       "    <tr style=\"text-align: right;\">\n",
       "      <th></th>\n",
       "      <th>Date</th>\n",
       "      <th>Time</th>\n",
       "      <th>Latitude</th>\n",
       "      <th>Longitude</th>\n",
       "      <th>Type</th>\n",
       "      <th>Depth</th>\n",
       "      <th>Depth Error</th>\n",
       "      <th>Depth Seismic Stations</th>\n",
       "      <th>Magnitude</th>\n",
       "      <th>Magnitude Type</th>\n",
       "      <th>...</th>\n",
       "      <th>Magnitude Seismic Stations</th>\n",
       "      <th>Azimuthal Gap</th>\n",
       "      <th>Horizontal Distance</th>\n",
       "      <th>Horizontal Error</th>\n",
       "      <th>Root Mean Square</th>\n",
       "      <th>ID</th>\n",
       "      <th>Source</th>\n",
       "      <th>Location Source</th>\n",
       "      <th>Magnitude Source</th>\n",
       "      <th>Status</th>\n",
       "    </tr>\n",
       "  </thead>\n",
       "  <tbody>\n",
       "    <tr>\n",
       "      <th>0</th>\n",
       "      <td>07/29/1968</td>\n",
       "      <td>11:12:02</td>\n",
       "      <td>-22.531</td>\n",
       "      <td>-174.860</td>\n",
       "      <td>Earthquake</td>\n",
       "      <td>45.0</td>\n",
       "      <td>NaN</td>\n",
       "      <td>NaN</td>\n",
       "      <td>6.3</td>\n",
       "      <td>MW</td>\n",
       "      <td>...</td>\n",
       "      <td>NaN</td>\n",
       "      <td>NaN</td>\n",
       "      <td>NaN</td>\n",
       "      <td>NaN</td>\n",
       "      <td>NaN</td>\n",
       "      <td>ISCGEM819475</td>\n",
       "      <td>ISCGEM</td>\n",
       "      <td>ISCGEM</td>\n",
       "      <td>ISCGEM</td>\n",
       "      <td>Automatic</td>\n",
       "    </tr>\n",
       "    <tr>\n",
       "      <th>1</th>\n",
       "      <td>07/29/1968</td>\n",
       "      <td>23:52:18</td>\n",
       "      <td>-0.291</td>\n",
       "      <td>133.409</td>\n",
       "      <td>Earthquake</td>\n",
       "      <td>20.0</td>\n",
       "      <td>NaN</td>\n",
       "      <td>NaN</td>\n",
       "      <td>6.2</td>\n",
       "      <td>MW</td>\n",
       "      <td>...</td>\n",
       "      <td>NaN</td>\n",
       "      <td>NaN</td>\n",
       "      <td>NaN</td>\n",
       "      <td>NaN</td>\n",
       "      <td>NaN</td>\n",
       "      <td>ISCGEM819494</td>\n",
       "      <td>ISCGEM</td>\n",
       "      <td>ISCGEM</td>\n",
       "      <td>ISCGEM</td>\n",
       "      <td>Automatic</td>\n",
       "    </tr>\n",
       "    <tr>\n",
       "      <th>2</th>\n",
       "      <td>07/30/1968</td>\n",
       "      <td>20:38:43</td>\n",
       "      <td>-6.987</td>\n",
       "      <td>-80.544</td>\n",
       "      <td>Earthquake</td>\n",
       "      <td>31.8</td>\n",
       "      <td>NaN</td>\n",
       "      <td>NaN</td>\n",
       "      <td>6.5</td>\n",
       "      <td>MW</td>\n",
       "      <td>...</td>\n",
       "      <td>NaN</td>\n",
       "      <td>NaN</td>\n",
       "      <td>NaN</td>\n",
       "      <td>NaN</td>\n",
       "      <td>NaN</td>\n",
       "      <td>ISCGEM819518</td>\n",
       "      <td>ISCGEM</td>\n",
       "      <td>ISCGEM</td>\n",
       "      <td>ISCGEM</td>\n",
       "      <td>Automatic</td>\n",
       "    </tr>\n",
       "    <tr>\n",
       "      <th>3</th>\n",
       "      <td>08/01/1968</td>\n",
       "      <td>00:14:17</td>\n",
       "      <td>-26.822</td>\n",
       "      <td>-177.090</td>\n",
       "      <td>Earthquake</td>\n",
       "      <td>127.2</td>\n",
       "      <td>NaN</td>\n",
       "      <td>NaN</td>\n",
       "      <td>5.7</td>\n",
       "      <td>MW</td>\n",
       "      <td>...</td>\n",
       "      <td>NaN</td>\n",
       "      <td>NaN</td>\n",
       "      <td>NaN</td>\n",
       "      <td>NaN</td>\n",
       "      <td>NaN</td>\n",
       "      <td>ISCGEM817534</td>\n",
       "      <td>ISCGEM</td>\n",
       "      <td>ISCGEM</td>\n",
       "      <td>ISCGEM</td>\n",
       "      <td>Automatic</td>\n",
       "    </tr>\n",
       "    <tr>\n",
       "      <th>4</th>\n",
       "      <td>08/01/1968</td>\n",
       "      <td>20:19:22</td>\n",
       "      <td>16.316</td>\n",
       "      <td>122.067</td>\n",
       "      <td>Earthquake</td>\n",
       "      <td>25.0</td>\n",
       "      <td>NaN</td>\n",
       "      <td>NaN</td>\n",
       "      <td>7.6</td>\n",
       "      <td>MW</td>\n",
       "      <td>...</td>\n",
       "      <td>NaN</td>\n",
       "      <td>NaN</td>\n",
       "      <td>NaN</td>\n",
       "      <td>NaN</td>\n",
       "      <td>NaN</td>\n",
       "      <td>ISCGEM817557</td>\n",
       "      <td>ISCGEM</td>\n",
       "      <td>ISCGEM</td>\n",
       "      <td>ISCGEM</td>\n",
       "      <td>Automatic</td>\n",
       "    </tr>\n",
       "  </tbody>\n",
       "</table>\n",
       "<p>5 rows × 21 columns</p>\n",
       "</div>"
      ],
      "text/plain": [
       "         Date      Time  Latitude  Longitude        Type  Depth  Depth Error  \\\n",
       "0  07/29/1968  11:12:02   -22.531   -174.860  Earthquake   45.0          NaN   \n",
       "1  07/29/1968  23:52:18    -0.291    133.409  Earthquake   20.0          NaN   \n",
       "2  07/30/1968  20:38:43    -6.987    -80.544  Earthquake   31.8          NaN   \n",
       "3  08/01/1968  00:14:17   -26.822   -177.090  Earthquake  127.2          NaN   \n",
       "4  08/01/1968  20:19:22    16.316    122.067  Earthquake   25.0          NaN   \n",
       "\n",
       "   Depth Seismic Stations  Magnitude Magnitude Type  ...  \\\n",
       "0                     NaN        6.3             MW  ...   \n",
       "1                     NaN        6.2             MW  ...   \n",
       "2                     NaN        6.5             MW  ...   \n",
       "3                     NaN        5.7             MW  ...   \n",
       "4                     NaN        7.6             MW  ...   \n",
       "\n",
       "   Magnitude Seismic Stations  Azimuthal Gap  Horizontal Distance  \\\n",
       "0                         NaN            NaN                  NaN   \n",
       "1                         NaN            NaN                  NaN   \n",
       "2                         NaN            NaN                  NaN   \n",
       "3                         NaN            NaN                  NaN   \n",
       "4                         NaN            NaN                  NaN   \n",
       "\n",
       "   Horizontal Error  Root Mean Square            ID  Source Location Source  \\\n",
       "0               NaN               NaN  ISCGEM819475  ISCGEM          ISCGEM   \n",
       "1               NaN               NaN  ISCGEM819494  ISCGEM          ISCGEM   \n",
       "2               NaN               NaN  ISCGEM819518  ISCGEM          ISCGEM   \n",
       "3               NaN               NaN  ISCGEM817534  ISCGEM          ISCGEM   \n",
       "4               NaN               NaN  ISCGEM817557  ISCGEM          ISCGEM   \n",
       "\n",
       "  Magnitude Source     Status  \n",
       "0           ISCGEM  Automatic  \n",
       "1           ISCGEM  Automatic  \n",
       "2           ISCGEM  Automatic  \n",
       "3           ISCGEM  Automatic  \n",
       "4           ISCGEM  Automatic  \n",
       "\n",
       "[5 rows x 21 columns]"
      ]
     },
     "execution_count": 11,
     "metadata": {},
     "output_type": "execute_result"
    }
   ],
   "source": [
    "df1.head()"
   ]
  },
  {
   "cell_type": "markdown",
   "id": "2596333b",
   "metadata": {},
   "source": [
    "# 1.1  Finding data type information about the dataset"
   ]
  },
  {
   "cell_type": "markdown",
   "id": "d8c5e68c",
   "metadata": {},
   "source": [
    "dtypes can be applied on a DataFrame as shown to see the data types of all the columns."
   ]
  },
  {
   "cell_type": "code",
   "execution_count": 12,
   "id": "6edf2dba",
   "metadata": {},
   "outputs": [
    {
     "data": {
      "text/plain": [
       "Date                           object\n",
       "Time                           object\n",
       "Latitude                      float64\n",
       "Longitude                     float64\n",
       "Type                           object\n",
       "Depth                         float64\n",
       "Depth Error                   float64\n",
       "Depth Seismic Stations        float64\n",
       "Magnitude                     float64\n",
       "Magnitude Type                 object\n",
       "Magnitude Error               float64\n",
       "Magnitude Seismic Stations    float64\n",
       "Azimuthal Gap                 float64\n",
       "Horizontal Distance           float64\n",
       "Horizontal Error              float64\n",
       "Root Mean Square              float64\n",
       "ID                             object\n",
       "Source                         object\n",
       "Location Source                object\n",
       "Magnitude Source               object\n",
       "Status                         object\n",
       "dtype: object"
      ]
     },
     "execution_count": 12,
     "metadata": {},
     "output_type": "execute_result"
    }
   ],
   "source": [
    "df1.dtypes"
   ]
  },
  {
   "cell_type": "markdown",
   "id": "19bcf6a5",
   "metadata": {},
   "source": [
    "As we can see, there are columns with object and float64 data type. "
   ]
  },
  {
   "cell_type": "code",
   "execution_count": 14,
   "id": "6d356cf1",
   "metadata": {},
   "outputs": [
    {
     "data": {
      "text/plain": [
       "dtype('float64')"
      ]
     },
     "execution_count": 14,
     "metadata": {},
     "output_type": "execute_result"
    }
   ],
   "source": [
    "df1['Latitude'].dtypes"
   ]
  },
  {
   "cell_type": "markdown",
   "id": "d866ba0a",
   "metadata": {},
   "source": [
    ".dtypes can also be applied to an individual column.\n",
    "You can also use .info() to see all the data types under the header ‘Dtype’."
   ]
  },
  {
   "cell_type": "code",
   "execution_count": 15,
   "id": "40203bd7",
   "metadata": {},
   "outputs": [
    {
     "name": "stdout",
     "output_type": "stream",
     "text": [
      "<class 'pandas.core.frame.DataFrame'>\n",
      "RangeIndex: 1000 entries, 0 to 999\n",
      "Data columns (total 21 columns):\n",
      " #   Column                      Non-Null Count  Dtype  \n",
      "---  ------                      --------------  -----  \n",
      " 0   Date                        1000 non-null   object \n",
      " 1   Time                        1000 non-null   object \n",
      " 2   Latitude                    1000 non-null   float64\n",
      " 3   Longitude                   1000 non-null   float64\n",
      " 4   Type                        1000 non-null   object \n",
      " 5   Depth                       1000 non-null   float64\n",
      " 6   Depth Error                 4 non-null      float64\n",
      " 7   Depth Seismic Stations      6 non-null      float64\n",
      " 8   Magnitude                   1000 non-null   float64\n",
      " 9   Magnitude Type              1000 non-null   object \n",
      " 10  Magnitude Error             3 non-null      float64\n",
      " 11  Magnitude Seismic Stations  6 non-null      float64\n",
      " 12  Azimuthal Gap               6 non-null      float64\n",
      " 13  Horizontal Distance         5 non-null      float64\n",
      " 14  Horizontal Error            3 non-null      float64\n",
      " 15  Root Mean Square            6 non-null      float64\n",
      " 16  ID                          1000 non-null   object \n",
      " 17  Source                      1000 non-null   object \n",
      " 18  Location Source             1000 non-null   object \n",
      " 19  Magnitude Source            1000 non-null   object \n",
      " 20  Status                      1000 non-null   object \n",
      "dtypes: float64(12), object(9)\n",
      "memory usage: 164.2+ KB\n"
     ]
    }
   ],
   "source": [
    "df1.info()"
   ]
  },
  {
   "cell_type": "markdown",
   "id": "7cf694cb",
   "metadata": {},
   "source": [
    "# 1.2  Converting from one data type to another"
   ]
  },
  {
   "cell_type": "markdown",
   "id": "f3b6f455",
   "metadata": {},
   "source": [
    "pandas allows us to convert from one data type to another using a function .astype().  Let us create a copy of our DataFrame named df2, and convert the data type of latitude column in df2 to int64."
   ]
  },
  {
   "cell_type": "code",
   "execution_count": 17,
   "id": "bddf0145",
   "metadata": {},
   "outputs": [
    {
     "data": {
      "text/plain": [
       "Date                           object\n",
       "Time                           object\n",
       "Latitude                        int64\n",
       "Longitude                     float64\n",
       "Type                           object\n",
       "Depth                         float64\n",
       "Depth Error                   float64\n",
       "Depth Seismic Stations        float64\n",
       "Magnitude                     float64\n",
       "Magnitude Type                 object\n",
       "Magnitude Error               float64\n",
       "Magnitude Seismic Stations    float64\n",
       "Azimuthal Gap                 float64\n",
       "Horizontal Distance           float64\n",
       "Horizontal Error              float64\n",
       "Root Mean Square              float64\n",
       "ID                             object\n",
       "Source                         object\n",
       "Location Source                object\n",
       "Magnitude Source               object\n",
       "Status                         object\n",
       "dtype: object"
      ]
     },
     "execution_count": 17,
     "metadata": {},
     "output_type": "execute_result"
    }
   ],
   "source": [
    "df2= df1.copy()\n",
    "df2['Latitude'] = df1 ['Latitude'].astype('int64')\n",
    "df2.dtypes"
   ]
  },
  {
   "cell_type": "markdown",
   "id": "b65b4959",
   "metadata": {},
   "source": [
    "However, converting a floating value to an integer value will result in loss of decimal digits and therefore, it is not a standard practice."
   ]
  },
  {
   "cell_type": "markdown",
   "id": "bc9ad0ea",
   "metadata": {},
   "source": [
    "# 1.3  Converting date time data"
   ]
  },
  {
   "cell_type": "markdown",
   "id": "3ab6c38c",
   "metadata": {},
   "source": [
    "Let us again look at the data types for the DataFrame df2.\n",
    "Notice how the ‘Date’ and ‘Time’ column is showing ‘object’ as the data type."
   ]
  },
  {
   "cell_type": "code",
   "execution_count": 18,
   "id": "05da84a6",
   "metadata": {},
   "outputs": [
    {
     "data": {
      "text/plain": [
       "Date                           object\n",
       "Time                           object\n",
       "Latitude                      float64\n",
       "Longitude                     float64\n",
       "Type                           object\n",
       "Depth                         float64\n",
       "Depth Error                   float64\n",
       "Depth Seismic Stations        float64\n",
       "Magnitude                     float64\n",
       "Magnitude Type                 object\n",
       "Magnitude Error               float64\n",
       "Magnitude Seismic Stations    float64\n",
       "Azimuthal Gap                 float64\n",
       "Horizontal Distance           float64\n",
       "Horizontal Error              float64\n",
       "Root Mean Square              float64\n",
       "ID                             object\n",
       "Source                         object\n",
       "Location Source                object\n",
       "Magnitude Source               object\n",
       "Status                         object\n",
       "dtype: object"
      ]
     },
     "execution_count": 18,
     "metadata": {},
     "output_type": "execute_result"
    }
   ],
   "source": [
    "df1.dtypes"
   ]
  },
  {
   "cell_type": "markdown",
   "id": "b955c329",
   "metadata": {},
   "source": [
    "Date or time data existing within a DataFrame should be converted to the ‘datetime64’ data type. This helps us to work eﬀiciently with date and time values and perform operations such as finding the number of days between two successive dates. In our dataset, the “Date” and “Time” columns exist as object data types.  Let us try and find the number of days between the 0th and the 1st row."
   ]
  },
  {
   "cell_type": "code",
   "execution_count": 19,
   "id": "85462c5e",
   "metadata": {},
   "outputs": [
    {
     "ename": "TypeError",
     "evalue": "unsupported operand type(s) for -: 'str' and 'str'",
     "output_type": "error",
     "traceback": [
      "\u001b[1;31m---------------------------------------------------------------------------\u001b[0m",
      "\u001b[1;31mTypeError\u001b[0m                                 Traceback (most recent call last)",
      "Cell \u001b[1;32mIn[19], line 1\u001b[0m\n\u001b[1;32m----> 1\u001b[0m df1[\u001b[38;5;124m'\u001b[39m\u001b[38;5;124mDate\u001b[39m\u001b[38;5;124m'\u001b[39m][\u001b[38;5;241m1\u001b[39m]\u001b[38;5;241m-\u001b[39mdf1[\u001b[38;5;124m'\u001b[39m\u001b[38;5;124mDate\u001b[39m\u001b[38;5;124m'\u001b[39m][\u001b[38;5;241m0\u001b[39m]\n",
      "\u001b[1;31mTypeError\u001b[0m: unsupported operand type(s) for -: 'str' and 'str'"
     ]
    }
   ],
   "source": [
    "df1['Date'][1]-df1['Date'][0]"
   ]
  },
  {
   "cell_type": "markdown",
   "id": "15f7ebda",
   "metadata": {},
   "source": [
    "This operation is not supported because the Date column has data type object or dates are being treated as string values which do not support the ‘difference’ operation.\n",
    "Let us now convert the Date column to datetime64 data type. to_datetime is the pandas functionfor converting to datetime data type."
   ]
  },
  {
   "cell_type": "code",
   "execution_count": 21,
   "id": "d4379a30",
   "metadata": {},
   "outputs": [],
   "source": [
    "df1['Date']= pd.to_datetime(df1['Date'], format= '%m/%d/%Y')"
   ]
  },
  {
   "cell_type": "markdown",
   "id": "b904f3d6",
   "metadata": {},
   "source": [
    "Let us again check if the Date column has the correct data type by using .dtypes"
   ]
  },
  {
   "cell_type": "code",
   "execution_count": 22,
   "id": "36edd89b",
   "metadata": {},
   "outputs": [
    {
     "data": {
      "text/plain": [
       "Date                          datetime64[ns]\n",
       "Time                                  object\n",
       "Latitude                             float64\n",
       "Longitude                            float64\n",
       "Type                                  object\n",
       "Depth                                float64\n",
       "Depth Error                          float64\n",
       "Depth Seismic Stations               float64\n",
       "Magnitude                            float64\n",
       "Magnitude Type                        object\n",
       "Magnitude Error                      float64\n",
       "Magnitude Seismic Stations           float64\n",
       "Azimuthal Gap                        float64\n",
       "Horizontal Distance                  float64\n",
       "Horizontal Error                     float64\n",
       "Root Mean Square                     float64\n",
       "ID                                    object\n",
       "Source                                object\n",
       "Location Source                       object\n",
       "Magnitude Source                      object\n",
       "Status                                object\n",
       "dtype: object"
      ]
     },
     "execution_count": 22,
     "metadata": {},
     "output_type": "execute_result"
    }
   ],
   "source": [
    "df1.dtypes"
   ]
  },
  {
   "cell_type": "markdown",
   "id": "aabc9f8c",
   "metadata": {},
   "source": [
    "Here we can see that the data type has changed to datetime64. Let us look at how Date column has changed as a result of this operation. You will notice that year is appearing first, followed by month, further followed by day."
   ]
  },
  {
   "cell_type": "code",
   "execution_count": 23,
   "id": "63c5a0d0",
   "metadata": {},
   "outputs": [
    {
     "data": {
      "text/html": [
       "<div>\n",
       "<style scoped>\n",
       "    .dataframe tbody tr th:only-of-type {\n",
       "        vertical-align: middle;\n",
       "    }\n",
       "\n",
       "    .dataframe tbody tr th {\n",
       "        vertical-align: top;\n",
       "    }\n",
       "\n",
       "    .dataframe thead th {\n",
       "        text-align: right;\n",
       "    }\n",
       "</style>\n",
       "<table border=\"1\" class=\"dataframe\">\n",
       "  <thead>\n",
       "    <tr style=\"text-align: right;\">\n",
       "      <th></th>\n",
       "      <th>Date</th>\n",
       "      <th>Time</th>\n",
       "      <th>Latitude</th>\n",
       "      <th>Longitude</th>\n",
       "      <th>Type</th>\n",
       "      <th>Depth</th>\n",
       "      <th>Depth Error</th>\n",
       "      <th>Depth Seismic Stations</th>\n",
       "      <th>Magnitude</th>\n",
       "      <th>Magnitude Type</th>\n",
       "      <th>...</th>\n",
       "      <th>Magnitude Seismic Stations</th>\n",
       "      <th>Azimuthal Gap</th>\n",
       "      <th>Horizontal Distance</th>\n",
       "      <th>Horizontal Error</th>\n",
       "      <th>Root Mean Square</th>\n",
       "      <th>ID</th>\n",
       "      <th>Source</th>\n",
       "      <th>Location Source</th>\n",
       "      <th>Magnitude Source</th>\n",
       "      <th>Status</th>\n",
       "    </tr>\n",
       "  </thead>\n",
       "  <tbody>\n",
       "    <tr>\n",
       "      <th>0</th>\n",
       "      <td>1968-07-29</td>\n",
       "      <td>11:12:02</td>\n",
       "      <td>-22.531</td>\n",
       "      <td>-174.860</td>\n",
       "      <td>Earthquake</td>\n",
       "      <td>45.0</td>\n",
       "      <td>NaN</td>\n",
       "      <td>NaN</td>\n",
       "      <td>6.3</td>\n",
       "      <td>MW</td>\n",
       "      <td>...</td>\n",
       "      <td>NaN</td>\n",
       "      <td>NaN</td>\n",
       "      <td>NaN</td>\n",
       "      <td>NaN</td>\n",
       "      <td>NaN</td>\n",
       "      <td>ISCGEM819475</td>\n",
       "      <td>ISCGEM</td>\n",
       "      <td>ISCGEM</td>\n",
       "      <td>ISCGEM</td>\n",
       "      <td>Automatic</td>\n",
       "    </tr>\n",
       "    <tr>\n",
       "      <th>1</th>\n",
       "      <td>1968-07-29</td>\n",
       "      <td>23:52:18</td>\n",
       "      <td>-0.291</td>\n",
       "      <td>133.409</td>\n",
       "      <td>Earthquake</td>\n",
       "      <td>20.0</td>\n",
       "      <td>NaN</td>\n",
       "      <td>NaN</td>\n",
       "      <td>6.2</td>\n",
       "      <td>MW</td>\n",
       "      <td>...</td>\n",
       "      <td>NaN</td>\n",
       "      <td>NaN</td>\n",
       "      <td>NaN</td>\n",
       "      <td>NaN</td>\n",
       "      <td>NaN</td>\n",
       "      <td>ISCGEM819494</td>\n",
       "      <td>ISCGEM</td>\n",
       "      <td>ISCGEM</td>\n",
       "      <td>ISCGEM</td>\n",
       "      <td>Automatic</td>\n",
       "    </tr>\n",
       "    <tr>\n",
       "      <th>2</th>\n",
       "      <td>1968-07-30</td>\n",
       "      <td>20:38:43</td>\n",
       "      <td>-6.987</td>\n",
       "      <td>-80.544</td>\n",
       "      <td>Earthquake</td>\n",
       "      <td>31.8</td>\n",
       "      <td>NaN</td>\n",
       "      <td>NaN</td>\n",
       "      <td>6.5</td>\n",
       "      <td>MW</td>\n",
       "      <td>...</td>\n",
       "      <td>NaN</td>\n",
       "      <td>NaN</td>\n",
       "      <td>NaN</td>\n",
       "      <td>NaN</td>\n",
       "      <td>NaN</td>\n",
       "      <td>ISCGEM819518</td>\n",
       "      <td>ISCGEM</td>\n",
       "      <td>ISCGEM</td>\n",
       "      <td>ISCGEM</td>\n",
       "      <td>Automatic</td>\n",
       "    </tr>\n",
       "    <tr>\n",
       "      <th>3</th>\n",
       "      <td>1968-08-01</td>\n",
       "      <td>00:14:17</td>\n",
       "      <td>-26.822</td>\n",
       "      <td>-177.090</td>\n",
       "      <td>Earthquake</td>\n",
       "      <td>127.2</td>\n",
       "      <td>NaN</td>\n",
       "      <td>NaN</td>\n",
       "      <td>5.7</td>\n",
       "      <td>MW</td>\n",
       "      <td>...</td>\n",
       "      <td>NaN</td>\n",
       "      <td>NaN</td>\n",
       "      <td>NaN</td>\n",
       "      <td>NaN</td>\n",
       "      <td>NaN</td>\n",
       "      <td>ISCGEM817534</td>\n",
       "      <td>ISCGEM</td>\n",
       "      <td>ISCGEM</td>\n",
       "      <td>ISCGEM</td>\n",
       "      <td>Automatic</td>\n",
       "    </tr>\n",
       "    <tr>\n",
       "      <th>4</th>\n",
       "      <td>1968-08-01</td>\n",
       "      <td>20:19:22</td>\n",
       "      <td>16.316</td>\n",
       "      <td>122.067</td>\n",
       "      <td>Earthquake</td>\n",
       "      <td>25.0</td>\n",
       "      <td>NaN</td>\n",
       "      <td>NaN</td>\n",
       "      <td>7.6</td>\n",
       "      <td>MW</td>\n",
       "      <td>...</td>\n",
       "      <td>NaN</td>\n",
       "      <td>NaN</td>\n",
       "      <td>NaN</td>\n",
       "      <td>NaN</td>\n",
       "      <td>NaN</td>\n",
       "      <td>ISCGEM817557</td>\n",
       "      <td>ISCGEM</td>\n",
       "      <td>ISCGEM</td>\n",
       "      <td>ISCGEM</td>\n",
       "      <td>Automatic</td>\n",
       "    </tr>\n",
       "    <tr>\n",
       "      <th>5</th>\n",
       "      <td>1968-08-02</td>\n",
       "      <td>13:30:25</td>\n",
       "      <td>27.579</td>\n",
       "      <td>60.979</td>\n",
       "      <td>Earthquake</td>\n",
       "      <td>67.4</td>\n",
       "      <td>NaN</td>\n",
       "      <td>NaN</td>\n",
       "      <td>5.9</td>\n",
       "      <td>MW</td>\n",
       "      <td>...</td>\n",
       "      <td>NaN</td>\n",
       "      <td>NaN</td>\n",
       "      <td>NaN</td>\n",
       "      <td>NaN</td>\n",
       "      <td>NaN</td>\n",
       "      <td>ISCGEM817580</td>\n",
       "      <td>ISCGEM</td>\n",
       "      <td>ISCGEM</td>\n",
       "      <td>ISCGEM</td>\n",
       "      <td>Automatic</td>\n",
       "    </tr>\n",
       "    <tr>\n",
       "      <th>6</th>\n",
       "      <td>1968-08-02</td>\n",
       "      <td>14:06:43</td>\n",
       "      <td>16.519</td>\n",
       "      <td>-97.739</td>\n",
       "      <td>Earthquake</td>\n",
       "      <td>25.0</td>\n",
       "      <td>NaN</td>\n",
       "      <td>NaN</td>\n",
       "      <td>7.3</td>\n",
       "      <td>MW</td>\n",
       "      <td>...</td>\n",
       "      <td>NaN</td>\n",
       "      <td>NaN</td>\n",
       "      <td>NaN</td>\n",
       "      <td>NaN</td>\n",
       "      <td>NaN</td>\n",
       "      <td>ISCGEM817583</td>\n",
       "      <td>ISCGEM</td>\n",
       "      <td>ISCGEM</td>\n",
       "      <td>ISCGEM</td>\n",
       "      <td>Automatic</td>\n",
       "    </tr>\n",
       "    <tr>\n",
       "      <th>7</th>\n",
       "      <td>1968-08-03</td>\n",
       "      <td>04:54:34</td>\n",
       "      <td>25.637</td>\n",
       "      <td>128.490</td>\n",
       "      <td>Earthquake</td>\n",
       "      <td>15.0</td>\n",
       "      <td>NaN</td>\n",
       "      <td>NaN</td>\n",
       "      <td>6.7</td>\n",
       "      <td>MW</td>\n",
       "      <td>...</td>\n",
       "      <td>NaN</td>\n",
       "      <td>NaN</td>\n",
       "      <td>NaN</td>\n",
       "      <td>NaN</td>\n",
       "      <td>NaN</td>\n",
       "      <td>ISCGEM817611</td>\n",
       "      <td>ISCGEM</td>\n",
       "      <td>ISCGEM</td>\n",
       "      <td>ISCGEM</td>\n",
       "      <td>Automatic</td>\n",
       "    </tr>\n",
       "    <tr>\n",
       "      <th>8</th>\n",
       "      <td>1968-08-03</td>\n",
       "      <td>06:25:05</td>\n",
       "      <td>16.475</td>\n",
       "      <td>122.230</td>\n",
       "      <td>Earthquake</td>\n",
       "      <td>25.0</td>\n",
       "      <td>NaN</td>\n",
       "      <td>NaN</td>\n",
       "      <td>6.4</td>\n",
       "      <td>MW</td>\n",
       "      <td>...</td>\n",
       "      <td>NaN</td>\n",
       "      <td>NaN</td>\n",
       "      <td>NaN</td>\n",
       "      <td>NaN</td>\n",
       "      <td>NaN</td>\n",
       "      <td>ISCGEM817612</td>\n",
       "      <td>ISCGEM</td>\n",
       "      <td>ISCGEM</td>\n",
       "      <td>ISCGEM</td>\n",
       "      <td>Automatic</td>\n",
       "    </tr>\n",
       "    <tr>\n",
       "      <th>9</th>\n",
       "      <td>1968-08-04</td>\n",
       "      <td>11:41:25</td>\n",
       "      <td>6.498</td>\n",
       "      <td>126.777</td>\n",
       "      <td>Earthquake</td>\n",
       "      <td>100.0</td>\n",
       "      <td>NaN</td>\n",
       "      <td>NaN</td>\n",
       "      <td>6.1</td>\n",
       "      <td>MW</td>\n",
       "      <td>...</td>\n",
       "      <td>NaN</td>\n",
       "      <td>NaN</td>\n",
       "      <td>NaN</td>\n",
       "      <td>NaN</td>\n",
       "      <td>NaN</td>\n",
       "      <td>ISCGEM817656</td>\n",
       "      <td>ISCGEM</td>\n",
       "      <td>ISCGEM</td>\n",
       "      <td>ISCGEM</td>\n",
       "      <td>Automatic</td>\n",
       "    </tr>\n",
       "  </tbody>\n",
       "</table>\n",
       "<p>10 rows × 21 columns</p>\n",
       "</div>"
      ],
      "text/plain": [
       "        Date      Time  Latitude  Longitude        Type  Depth  Depth Error  \\\n",
       "0 1968-07-29  11:12:02   -22.531   -174.860  Earthquake   45.0          NaN   \n",
       "1 1968-07-29  23:52:18    -0.291    133.409  Earthquake   20.0          NaN   \n",
       "2 1968-07-30  20:38:43    -6.987    -80.544  Earthquake   31.8          NaN   \n",
       "3 1968-08-01  00:14:17   -26.822   -177.090  Earthquake  127.2          NaN   \n",
       "4 1968-08-01  20:19:22    16.316    122.067  Earthquake   25.0          NaN   \n",
       "5 1968-08-02  13:30:25    27.579     60.979  Earthquake   67.4          NaN   \n",
       "6 1968-08-02  14:06:43    16.519    -97.739  Earthquake   25.0          NaN   \n",
       "7 1968-08-03  04:54:34    25.637    128.490  Earthquake   15.0          NaN   \n",
       "8 1968-08-03  06:25:05    16.475    122.230  Earthquake   25.0          NaN   \n",
       "9 1968-08-04  11:41:25     6.498    126.777  Earthquake  100.0          NaN   \n",
       "\n",
       "   Depth Seismic Stations  Magnitude Magnitude Type  ...  \\\n",
       "0                     NaN        6.3             MW  ...   \n",
       "1                     NaN        6.2             MW  ...   \n",
       "2                     NaN        6.5             MW  ...   \n",
       "3                     NaN        5.7             MW  ...   \n",
       "4                     NaN        7.6             MW  ...   \n",
       "5                     NaN        5.9             MW  ...   \n",
       "6                     NaN        7.3             MW  ...   \n",
       "7                     NaN        6.7             MW  ...   \n",
       "8                     NaN        6.4             MW  ...   \n",
       "9                     NaN        6.1             MW  ...   \n",
       "\n",
       "   Magnitude Seismic Stations  Azimuthal Gap  Horizontal Distance  \\\n",
       "0                         NaN            NaN                  NaN   \n",
       "1                         NaN            NaN                  NaN   \n",
       "2                         NaN            NaN                  NaN   \n",
       "3                         NaN            NaN                  NaN   \n",
       "4                         NaN            NaN                  NaN   \n",
       "5                         NaN            NaN                  NaN   \n",
       "6                         NaN            NaN                  NaN   \n",
       "7                         NaN            NaN                  NaN   \n",
       "8                         NaN            NaN                  NaN   \n",
       "9                         NaN            NaN                  NaN   \n",
       "\n",
       "   Horizontal Error  Root Mean Square            ID  Source Location Source  \\\n",
       "0               NaN               NaN  ISCGEM819475  ISCGEM          ISCGEM   \n",
       "1               NaN               NaN  ISCGEM819494  ISCGEM          ISCGEM   \n",
       "2               NaN               NaN  ISCGEM819518  ISCGEM          ISCGEM   \n",
       "3               NaN               NaN  ISCGEM817534  ISCGEM          ISCGEM   \n",
       "4               NaN               NaN  ISCGEM817557  ISCGEM          ISCGEM   \n",
       "5               NaN               NaN  ISCGEM817580  ISCGEM          ISCGEM   \n",
       "6               NaN               NaN  ISCGEM817583  ISCGEM          ISCGEM   \n",
       "7               NaN               NaN  ISCGEM817611  ISCGEM          ISCGEM   \n",
       "8               NaN               NaN  ISCGEM817612  ISCGEM          ISCGEM   \n",
       "9               NaN               NaN  ISCGEM817656  ISCGEM          ISCGEM   \n",
       "\n",
       "  Magnitude Source     Status  \n",
       "0           ISCGEM  Automatic  \n",
       "1           ISCGEM  Automatic  \n",
       "2           ISCGEM  Automatic  \n",
       "3           ISCGEM  Automatic  \n",
       "4           ISCGEM  Automatic  \n",
       "5           ISCGEM  Automatic  \n",
       "6           ISCGEM  Automatic  \n",
       "7           ISCGEM  Automatic  \n",
       "8           ISCGEM  Automatic  \n",
       "9           ISCGEM  Automatic  \n",
       "\n",
       "[10 rows x 21 columns]"
      ]
     },
     "execution_count": 23,
     "metadata": {},
     "output_type": "execute_result"
    }
   ],
   "source": [
    "df1.head(10)"
   ]
  },
  {
   "cell_type": "markdown",
   "id": "b721f939",
   "metadata": {},
   "source": [
    "Let us now find the difference between two dates in the dataset and look at the result."
   ]
  },
  {
   "cell_type": "code",
   "execution_count": 24,
   "id": "918fc3a8",
   "metadata": {},
   "outputs": [
    {
     "data": {
      "text/plain": [
       "Timedelta('0 days 00:00:00')"
      ]
     },
     "execution_count": 24,
     "metadata": {},
     "output_type": "execute_result"
    }
   ],
   "source": [
    "df1['Date'][1]-df1['Date'][0]"
   ]
  },
  {
   "cell_type": "markdown",
   "id": "773803dd",
   "metadata": {},
   "source": [
    "You can now see that the difference between the two dates is returned.  A time stamp is alsoreturned which gives the difference in hours:minutes:seconds if any.\n",
    "\n",
    "Timedelta represents absolute differences in time. You can now try to convert the ‘Time’ columnto the ‘datetime64’ data type."
   ]
  },
  {
   "cell_type": "markdown",
   "id": "3412817c",
   "metadata": {},
   "source": [
    "# 1.3.1  Further you can find other information from the datetime64 data type as shown:"
   ]
  },
  {
   "cell_type": "code",
   "execution_count": 26,
   "id": "ae0f155d",
   "metadata": {},
   "outputs": [
    {
     "data": {
      "text/plain": [
       "Timestamp('1968-07-29 00:00:00')"
      ]
     },
     "execution_count": 26,
     "metadata": {},
     "output_type": "execute_result"
    }
   ],
   "source": [
    "df1['Date'][1]"
   ]
  },
  {
   "cell_type": "code",
   "execution_count": 27,
   "id": "babb61a6",
   "metadata": {},
   "outputs": [
    {
     "data": {
      "text/plain": [
       "29"
      ]
     },
     "execution_count": 27,
     "metadata": {},
     "output_type": "execute_result"
    }
   ],
   "source": [
    "df1['Date'][1].day"
   ]
  },
  {
   "cell_type": "code",
   "execution_count": 28,
   "id": "2c1a9600",
   "metadata": {},
   "outputs": [
    {
     "data": {
      "text/plain": [
       "7"
      ]
     },
     "execution_count": 28,
     "metadata": {},
     "output_type": "execute_result"
    }
   ],
   "source": [
    "df1['Date'][1].month"
   ]
  },
  {
   "cell_type": "code",
   "execution_count": 29,
   "id": "6d064426",
   "metadata": {},
   "outputs": [
    {
     "data": {
      "text/plain": [
       "1968"
      ]
     },
     "execution_count": 29,
     "metadata": {},
     "output_type": "execute_result"
    }
   ],
   "source": [
    "df1['Date'][1].year"
   ]
  },
  {
   "cell_type": "markdown",
   "id": "5cf83877",
   "metadata": {},
   "source": [
    "# 2  Selecting column based on data types"
   ]
  },
  {
   "cell_type": "markdown",
   "id": "2eef82c5",
   "metadata": {},
   "source": [
    "pandas allows you to select columns based on their data types by using select_dtypes function. For example, we can choose the columns with data type ‘float’ to create a new DataFrame out of the existing DataFrame. Let us revisit the data types for df1"
   ]
  },
  {
   "cell_type": "code",
   "execution_count": 30,
   "id": "e60584c6",
   "metadata": {},
   "outputs": [
    {
     "data": {
      "text/plain": [
       "Date                          datetime64[ns]\n",
       "Time                                  object\n",
       "Latitude                             float64\n",
       "Longitude                            float64\n",
       "Type                                  object\n",
       "Depth                                float64\n",
       "Depth Error                          float64\n",
       "Depth Seismic Stations               float64\n",
       "Magnitude                            float64\n",
       "Magnitude Type                        object\n",
       "Magnitude Error                      float64\n",
       "Magnitude Seismic Stations           float64\n",
       "Azimuthal Gap                        float64\n",
       "Horizontal Distance                  float64\n",
       "Horizontal Error                     float64\n",
       "Root Mean Square                     float64\n",
       "ID                                    object\n",
       "Source                                object\n",
       "Location Source                       object\n",
       "Magnitude Source                      object\n",
       "Status                                object\n",
       "dtype: object"
      ]
     },
     "execution_count": 30,
     "metadata": {},
     "output_type": "execute_result"
    }
   ],
   "source": [
    "df1.dtypes"
   ]
  },
  {
   "cell_type": "markdown",
   "id": "e5e9eba4",
   "metadata": {},
   "source": [
    "Now let us create a new DataFrame named decimals which contains the columns from df1 with the data type float64."
   ]
  },
  {
   "cell_type": "code",
   "execution_count": 32,
   "id": "11b1d94b",
   "metadata": {},
   "outputs": [
    {
     "data": {
      "text/html": [
       "<div>\n",
       "<style scoped>\n",
       "    .dataframe tbody tr th:only-of-type {\n",
       "        vertical-align: middle;\n",
       "    }\n",
       "\n",
       "    .dataframe tbody tr th {\n",
       "        vertical-align: top;\n",
       "    }\n",
       "\n",
       "    .dataframe thead th {\n",
       "        text-align: right;\n",
       "    }\n",
       "</style>\n",
       "<table border=\"1\" class=\"dataframe\">\n",
       "  <thead>\n",
       "    <tr style=\"text-align: right;\">\n",
       "      <th></th>\n",
       "      <th>Latitude</th>\n",
       "      <th>Longitude</th>\n",
       "      <th>Depth</th>\n",
       "      <th>Depth Error</th>\n",
       "      <th>Depth Seismic Stations</th>\n",
       "      <th>Magnitude</th>\n",
       "      <th>Magnitude Error</th>\n",
       "      <th>Magnitude Seismic Stations</th>\n",
       "      <th>Azimuthal Gap</th>\n",
       "      <th>Horizontal Distance</th>\n",
       "      <th>Horizontal Error</th>\n",
       "      <th>Root Mean Square</th>\n",
       "    </tr>\n",
       "  </thead>\n",
       "  <tbody>\n",
       "    <tr>\n",
       "      <th>0</th>\n",
       "      <td>-22.531</td>\n",
       "      <td>-174.860</td>\n",
       "      <td>45.0</td>\n",
       "      <td>NaN</td>\n",
       "      <td>NaN</td>\n",
       "      <td>6.3</td>\n",
       "      <td>NaN</td>\n",
       "      <td>NaN</td>\n",
       "      <td>NaN</td>\n",
       "      <td>NaN</td>\n",
       "      <td>NaN</td>\n",
       "      <td>NaN</td>\n",
       "    </tr>\n",
       "    <tr>\n",
       "      <th>1</th>\n",
       "      <td>-0.291</td>\n",
       "      <td>133.409</td>\n",
       "      <td>20.0</td>\n",
       "      <td>NaN</td>\n",
       "      <td>NaN</td>\n",
       "      <td>6.2</td>\n",
       "      <td>NaN</td>\n",
       "      <td>NaN</td>\n",
       "      <td>NaN</td>\n",
       "      <td>NaN</td>\n",
       "      <td>NaN</td>\n",
       "      <td>NaN</td>\n",
       "    </tr>\n",
       "    <tr>\n",
       "      <th>2</th>\n",
       "      <td>-6.987</td>\n",
       "      <td>-80.544</td>\n",
       "      <td>31.8</td>\n",
       "      <td>NaN</td>\n",
       "      <td>NaN</td>\n",
       "      <td>6.5</td>\n",
       "      <td>NaN</td>\n",
       "      <td>NaN</td>\n",
       "      <td>NaN</td>\n",
       "      <td>NaN</td>\n",
       "      <td>NaN</td>\n",
       "      <td>NaN</td>\n",
       "    </tr>\n",
       "    <tr>\n",
       "      <th>3</th>\n",
       "      <td>-26.822</td>\n",
       "      <td>-177.090</td>\n",
       "      <td>127.2</td>\n",
       "      <td>NaN</td>\n",
       "      <td>NaN</td>\n",
       "      <td>5.7</td>\n",
       "      <td>NaN</td>\n",
       "      <td>NaN</td>\n",
       "      <td>NaN</td>\n",
       "      <td>NaN</td>\n",
       "      <td>NaN</td>\n",
       "      <td>NaN</td>\n",
       "    </tr>\n",
       "    <tr>\n",
       "      <th>4</th>\n",
       "      <td>16.316</td>\n",
       "      <td>122.067</td>\n",
       "      <td>25.0</td>\n",
       "      <td>NaN</td>\n",
       "      <td>NaN</td>\n",
       "      <td>7.6</td>\n",
       "      <td>NaN</td>\n",
       "      <td>NaN</td>\n",
       "      <td>NaN</td>\n",
       "      <td>NaN</td>\n",
       "      <td>NaN</td>\n",
       "      <td>NaN</td>\n",
       "    </tr>\n",
       "  </tbody>\n",
       "</table>\n",
       "</div>"
      ],
      "text/plain": [
       "   Latitude  Longitude  Depth  Depth Error  Depth Seismic Stations  Magnitude  \\\n",
       "0   -22.531   -174.860   45.0          NaN                     NaN        6.3   \n",
       "1    -0.291    133.409   20.0          NaN                     NaN        6.2   \n",
       "2    -6.987    -80.544   31.8          NaN                     NaN        6.5   \n",
       "3   -26.822   -177.090  127.2          NaN                     NaN        5.7   \n",
       "4    16.316    122.067   25.0          NaN                     NaN        7.6   \n",
       "\n",
       "   Magnitude Error  Magnitude Seismic Stations  Azimuthal Gap  \\\n",
       "0              NaN                         NaN            NaN   \n",
       "1              NaN                         NaN            NaN   \n",
       "2              NaN                         NaN            NaN   \n",
       "3              NaN                         NaN            NaN   \n",
       "4              NaN                         NaN            NaN   \n",
       "\n",
       "   Horizontal Distance  Horizontal Error  Root Mean Square  \n",
       "0                  NaN               NaN               NaN  \n",
       "1                  NaN               NaN               NaN  \n",
       "2                  NaN               NaN               NaN  \n",
       "3                  NaN               NaN               NaN  \n",
       "4                  NaN               NaN               NaN  "
      ]
     },
     "execution_count": 32,
     "metadata": {},
     "output_type": "execute_result"
    }
   ],
   "source": [
    "decimals= df1.select_dtypes('float')\n",
    "decimals.head()"
   ]
  },
  {
   "cell_type": "markdown",
   "id": "453efccf",
   "metadata": {},
   "source": [
    "Check the data type for the newly created DataFrame."
   ]
  },
  {
   "cell_type": "code",
   "execution_count": 33,
   "id": "a27a9caa",
   "metadata": {},
   "outputs": [
    {
     "data": {
      "text/plain": [
       "Latitude                      float64\n",
       "Longitude                     float64\n",
       "Depth                         float64\n",
       "Depth Error                   float64\n",
       "Depth Seismic Stations        float64\n",
       "Magnitude                     float64\n",
       "Magnitude Error               float64\n",
       "Magnitude Seismic Stations    float64\n",
       "Azimuthal Gap                 float64\n",
       "Horizontal Distance           float64\n",
       "Horizontal Error              float64\n",
       "Root Mean Square              float64\n",
       "dtype: object"
      ]
     },
     "execution_count": 33,
     "metadata": {},
     "output_type": "execute_result"
    }
   ],
   "source": [
    "decimals.dtypes"
   ]
  },
  {
   "cell_type": "markdown",
   "id": "70c7fdbe",
   "metadata": {},
   "source": [
    "Similarly, you may choose to exclude certain data types while working with DataFrames.  Forexample, let us create a DataFrame number_data, which does not have any column from df1 with the object data type."
   ]
  },
  {
   "cell_type": "code",
   "execution_count": 34,
   "id": "5f2c3555",
   "metadata": {},
   "outputs": [],
   "source": [
    "number_data = df1.select_dtypes(exclude= 'object')"
   ]
  },
  {
   "cell_type": "markdown",
   "id": "fcc60847",
   "metadata": {},
   "source": [
    "Check the column and data type details for the number_data."
   ]
  },
  {
   "cell_type": "code",
   "execution_count": 36,
   "id": "e771250b",
   "metadata": {},
   "outputs": [
    {
     "data": {
      "text/html": [
       "<div>\n",
       "<style scoped>\n",
       "    .dataframe tbody tr th:only-of-type {\n",
       "        vertical-align: middle;\n",
       "    }\n",
       "\n",
       "    .dataframe tbody tr th {\n",
       "        vertical-align: top;\n",
       "    }\n",
       "\n",
       "    .dataframe thead th {\n",
       "        text-align: right;\n",
       "    }\n",
       "</style>\n",
       "<table border=\"1\" class=\"dataframe\">\n",
       "  <thead>\n",
       "    <tr style=\"text-align: right;\">\n",
       "      <th></th>\n",
       "      <th>Date</th>\n",
       "      <th>Latitude</th>\n",
       "      <th>Longitude</th>\n",
       "      <th>Depth</th>\n",
       "      <th>Depth Error</th>\n",
       "      <th>Depth Seismic Stations</th>\n",
       "      <th>Magnitude</th>\n",
       "      <th>Magnitude Error</th>\n",
       "      <th>Magnitude Seismic Stations</th>\n",
       "      <th>Azimuthal Gap</th>\n",
       "      <th>Horizontal Distance</th>\n",
       "      <th>Horizontal Error</th>\n",
       "      <th>Root Mean Square</th>\n",
       "    </tr>\n",
       "  </thead>\n",
       "  <tbody>\n",
       "    <tr>\n",
       "      <th>0</th>\n",
       "      <td>1968-07-29</td>\n",
       "      <td>-22.531</td>\n",
       "      <td>-174.860</td>\n",
       "      <td>45.0</td>\n",
       "      <td>NaN</td>\n",
       "      <td>NaN</td>\n",
       "      <td>6.3</td>\n",
       "      <td>NaN</td>\n",
       "      <td>NaN</td>\n",
       "      <td>NaN</td>\n",
       "      <td>NaN</td>\n",
       "      <td>NaN</td>\n",
       "      <td>NaN</td>\n",
       "    </tr>\n",
       "    <tr>\n",
       "      <th>1</th>\n",
       "      <td>1968-07-29</td>\n",
       "      <td>-0.291</td>\n",
       "      <td>133.409</td>\n",
       "      <td>20.0</td>\n",
       "      <td>NaN</td>\n",
       "      <td>NaN</td>\n",
       "      <td>6.2</td>\n",
       "      <td>NaN</td>\n",
       "      <td>NaN</td>\n",
       "      <td>NaN</td>\n",
       "      <td>NaN</td>\n",
       "      <td>NaN</td>\n",
       "      <td>NaN</td>\n",
       "    </tr>\n",
       "    <tr>\n",
       "      <th>2</th>\n",
       "      <td>1968-07-30</td>\n",
       "      <td>-6.987</td>\n",
       "      <td>-80.544</td>\n",
       "      <td>31.8</td>\n",
       "      <td>NaN</td>\n",
       "      <td>NaN</td>\n",
       "      <td>6.5</td>\n",
       "      <td>NaN</td>\n",
       "      <td>NaN</td>\n",
       "      <td>NaN</td>\n",
       "      <td>NaN</td>\n",
       "      <td>NaN</td>\n",
       "      <td>NaN</td>\n",
       "    </tr>\n",
       "    <tr>\n",
       "      <th>3</th>\n",
       "      <td>1968-08-01</td>\n",
       "      <td>-26.822</td>\n",
       "      <td>-177.090</td>\n",
       "      <td>127.2</td>\n",
       "      <td>NaN</td>\n",
       "      <td>NaN</td>\n",
       "      <td>5.7</td>\n",
       "      <td>NaN</td>\n",
       "      <td>NaN</td>\n",
       "      <td>NaN</td>\n",
       "      <td>NaN</td>\n",
       "      <td>NaN</td>\n",
       "      <td>NaN</td>\n",
       "    </tr>\n",
       "    <tr>\n",
       "      <th>4</th>\n",
       "      <td>1968-08-01</td>\n",
       "      <td>16.316</td>\n",
       "      <td>122.067</td>\n",
       "      <td>25.0</td>\n",
       "      <td>NaN</td>\n",
       "      <td>NaN</td>\n",
       "      <td>7.6</td>\n",
       "      <td>NaN</td>\n",
       "      <td>NaN</td>\n",
       "      <td>NaN</td>\n",
       "      <td>NaN</td>\n",
       "      <td>NaN</td>\n",
       "      <td>NaN</td>\n",
       "    </tr>\n",
       "  </tbody>\n",
       "</table>\n",
       "</div>"
      ],
      "text/plain": [
       "        Date  Latitude  Longitude  Depth  Depth Error  Depth Seismic Stations  \\\n",
       "0 1968-07-29   -22.531   -174.860   45.0          NaN                     NaN   \n",
       "1 1968-07-29    -0.291    133.409   20.0          NaN                     NaN   \n",
       "2 1968-07-30    -6.987    -80.544   31.8          NaN                     NaN   \n",
       "3 1968-08-01   -26.822   -177.090  127.2          NaN                     NaN   \n",
       "4 1968-08-01    16.316    122.067   25.0          NaN                     NaN   \n",
       "\n",
       "   Magnitude  Magnitude Error  Magnitude Seismic Stations  Azimuthal Gap  \\\n",
       "0        6.3              NaN                         NaN            NaN   \n",
       "1        6.2              NaN                         NaN            NaN   \n",
       "2        6.5              NaN                         NaN            NaN   \n",
       "3        5.7              NaN                         NaN            NaN   \n",
       "4        7.6              NaN                         NaN            NaN   \n",
       "\n",
       "   Horizontal Distance  Horizontal Error  Root Mean Square  \n",
       "0                  NaN               NaN               NaN  \n",
       "1                  NaN               NaN               NaN  \n",
       "2                  NaN               NaN               NaN  \n",
       "3                  NaN               NaN               NaN  \n",
       "4                  NaN               NaN               NaN  "
      ]
     },
     "execution_count": 36,
     "metadata": {},
     "output_type": "execute_result"
    }
   ],
   "source": [
    "number_data.head()"
   ]
  },
  {
   "cell_type": "code",
   "execution_count": 37,
   "id": "a6d95620",
   "metadata": {},
   "outputs": [
    {
     "data": {
      "text/plain": [
       "Date                          datetime64[ns]\n",
       "Latitude                             float64\n",
       "Longitude                            float64\n",
       "Depth                                float64\n",
       "Depth Error                          float64\n",
       "Depth Seismic Stations               float64\n",
       "Magnitude                            float64\n",
       "Magnitude Error                      float64\n",
       "Magnitude Seismic Stations           float64\n",
       "Azimuthal Gap                        float64\n",
       "Horizontal Distance                  float64\n",
       "Horizontal Error                     float64\n",
       "Root Mean Square                     float64\n",
       "dtype: object"
      ]
     },
     "execution_count": 37,
     "metadata": {},
     "output_type": "execute_result"
    }
   ],
   "source": [
    "number_data.dtypes"
   ]
  },
  {
   "cell_type": "markdown",
   "id": "0618630c",
   "metadata": {},
   "source": [
    "# 3  Additional tasks"
   ]
  },
  {
   "cell_type": "markdown",
   "id": "bd8faf1e",
   "metadata": {},
   "source": [
    "Let us look at some additional ways of working with data types. ## Changing data types while importing data\n",
    "Data types in a DataFrame can be customised at the time of reading the data using read_csv as shown. this can be applied to multiple columns at once by passing the column name and data type as a key value pair."
   ]
  },
  {
   "cell_type": "code",
   "execution_count": 40,
   "id": "701c9888",
   "metadata": {},
   "outputs": [],
   "source": [
    "dtypes_dict = {\"Depth\":\"object\",}"
   ]
  },
  {
   "cell_type": "code",
   "execution_count": 41,
   "id": "51476ba0",
   "metadata": {},
   "outputs": [],
   "source": [
    "df3= pd.read_csv('significant_earthquakes.csv', dtype=dtypes_dict)"
   ]
  },
  {
   "cell_type": "code",
   "execution_count": 42,
   "id": "07a5a188",
   "metadata": {},
   "outputs": [
    {
     "data": {
      "text/plain": [
       "Unnamed: 0                      int64\n",
       "Date                           object\n",
       "Time                           object\n",
       "Latitude                      float64\n",
       "Longitude                     float64\n",
       "Type                           object\n",
       "Depth                          object\n",
       "Depth Error                   float64\n",
       "Depth Seismic Stations        float64\n",
       "Magnitude                     float64\n",
       "Magnitude Type                 object\n",
       "Magnitude Error               float64\n",
       "Magnitude Seismic Stations    float64\n",
       "Azimuthal Gap                 float64\n",
       "Horizontal Distance           float64\n",
       "Horizontal Error              float64\n",
       "Root Mean Square              float64\n",
       "ID                             object\n",
       "Source                         object\n",
       "Location Source                object\n",
       "Magnitude Source               object\n",
       "Status                         object\n",
       "dtype: object"
      ]
     },
     "execution_count": 42,
     "metadata": {},
     "output_type": "execute_result"
    }
   ],
   "source": [
    "df3.dtypes"
   ]
  },
  {
   "cell_type": "markdown",
   "id": "14f06027",
   "metadata": {},
   "source": [
    "Data types also influence the memory usage of our data set. Let us see the memory being consumedby our dataset."
   ]
  },
  {
   "cell_type": "code",
   "execution_count": 43,
   "id": "ba5467b2",
   "metadata": {},
   "outputs": [
    {
     "name": "stdout",
     "output_type": "stream",
     "text": [
      "<class 'pandas.core.frame.DataFrame'>\n",
      "RangeIndex: 1000 entries, 0 to 999\n",
      "Data columns (total 22 columns):\n",
      " #   Column                      Non-Null Count  Dtype  \n",
      "---  ------                      --------------  -----  \n",
      " 0   Unnamed: 0                  1000 non-null   int64  \n",
      " 1   Date                        1000 non-null   object \n",
      " 2   Time                        1000 non-null   object \n",
      " 3   Latitude                    1000 non-null   float64\n",
      " 4   Longitude                   1000 non-null   float64\n",
      " 5   Type                        1000 non-null   object \n",
      " 6   Depth                       1000 non-null   object \n",
      " 7   Depth Error                 4 non-null      float64\n",
      " 8   Depth Seismic Stations      6 non-null      float64\n",
      " 9   Magnitude                   1000 non-null   float64\n",
      " 10  Magnitude Type              1000 non-null   object \n",
      " 11  Magnitude Error             3 non-null      float64\n",
      " 12  Magnitude Seismic Stations  6 non-null      float64\n",
      " 13  Azimuthal Gap               6 non-null      float64\n",
      " 14  Horizontal Distance         5 non-null      float64\n",
      " 15  Horizontal Error            3 non-null      float64\n",
      " 16  Root Mean Square            6 non-null      float64\n",
      " 17  ID                          1000 non-null   object \n",
      " 18  Source                      1000 non-null   object \n",
      " 19  Location Source             1000 non-null   object \n",
      " 20  Magnitude Source            1000 non-null   object \n",
      " 21  Status                      1000 non-null   object \n",
      "dtypes: float64(11), int64(1), object(10)\n",
      "memory usage: 172.0+ KB\n"
     ]
    }
   ],
   "source": [
    "df3.info()"
   ]
  },
  {
   "cell_type": "markdown",
   "id": "fe7bcac8",
   "metadata": {},
   "source": [
    "# 3.1  Category data type to save memory"
   ]
  },
  {
   "cell_type": "markdown",
   "id": "9a8fa8a8",
   "metadata": {},
   "source": [
    "Data type ‘category’ can be used for columns containing categorical data.  Usally, it is seen that categorical columns have ‘object’ data type.  The data type for such columns can be changed to‘categorical’ as shown to save memory. You can compare the memory usage of the dataset before and after type conversion to ‘category’."
   ]
  },
  {
   "cell_type": "code",
   "execution_count": 46,
   "id": "5df72623",
   "metadata": {},
   "outputs": [],
   "source": [
    "dtypes1= {\"Type\":\"category\",\n",
    "         \"Status\":\"category\",\n",
    "         \"Source\":\"category\",\n",
    "         \"Location Source\":\"category\",\n",
    "         \"Magnitude Source\":\"category\",\n",
    "         \"Magnitude Type\":\"category\"}\n",
    "\n",
    "df4= pd.read_csv('significant_earthquakes.csv',dtype=dtypes1, parse_dates=['Date','Time'])"
   ]
  },
  {
   "cell_type": "code",
   "execution_count": 47,
   "id": "3ab343e8",
   "metadata": {},
   "outputs": [
    {
     "name": "stdout",
     "output_type": "stream",
     "text": [
      "<class 'pandas.core.frame.DataFrame'>\n",
      "RangeIndex: 1000 entries, 0 to 999\n",
      "Data columns (total 22 columns):\n",
      " #   Column                      Non-Null Count  Dtype         \n",
      "---  ------                      --------------  -----         \n",
      " 0   Unnamed: 0                  1000 non-null   int64         \n",
      " 1   Date                        1000 non-null   datetime64[ns]\n",
      " 2   Time                        1000 non-null   datetime64[ns]\n",
      " 3   Latitude                    1000 non-null   float64       \n",
      " 4   Longitude                   1000 non-null   float64       \n",
      " 5   Type                        1000 non-null   category      \n",
      " 6   Depth                       1000 non-null   float64       \n",
      " 7   Depth Error                 4 non-null      float64       \n",
      " 8   Depth Seismic Stations      6 non-null      float64       \n",
      " 9   Magnitude                   1000 non-null   float64       \n",
      " 10  Magnitude Type              1000 non-null   category      \n",
      " 11  Magnitude Error             3 non-null      float64       \n",
      " 12  Magnitude Seismic Stations  6 non-null      float64       \n",
      " 13  Azimuthal Gap               6 non-null      float64       \n",
      " 14  Horizontal Distance         5 non-null      float64       \n",
      " 15  Horizontal Error            3 non-null      float64       \n",
      " 16  Root Mean Square            6 non-null      float64       \n",
      " 17  ID                          1000 non-null   object        \n",
      " 18  Source                      1000 non-null   category      \n",
      " 19  Location Source             1000 non-null   category      \n",
      " 20  Magnitude Source            1000 non-null   category      \n",
      " 21  Status                      1000 non-null   category      \n",
      "dtypes: category(6), datetime64[ns](2), float64(12), int64(1), object(1)\n",
      "memory usage: 131.5+ KB\n"
     ]
    }
   ],
   "source": [
    "df4.info()"
   ]
  },
  {
   "cell_type": "markdown",
   "id": "ab9fc7d6",
   "metadata": {},
   "source": [
    "The memory usage reduces from 172 KB to 131.5+ KB. Therefore, it is important to. have the rightkind of data type for each column.\n",
    "\n",
    "Congratulations on finishing this demo! You should now be able to work with differentdata types while using pandas.15"
   ]
  }
 ],
 "metadata": {
  "kernelspec": {
   "display_name": "Python 3 (ipykernel)",
   "language": "python",
   "name": "python3"
  },
  "language_info": {
   "codemirror_mode": {
    "name": "ipython",
    "version": 3
   },
   "file_extension": ".py",
   "mimetype": "text/x-python",
   "name": "python",
   "nbconvert_exporter": "python",
   "pygments_lexer": "ipython3",
   "version": "3.11.3"
  }
 },
 "nbformat": 4,
 "nbformat_minor": 5
}
